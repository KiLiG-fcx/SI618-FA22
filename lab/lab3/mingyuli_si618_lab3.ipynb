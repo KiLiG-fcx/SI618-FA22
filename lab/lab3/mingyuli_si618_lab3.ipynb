{
 "cells": [
  {
   "cell_type": "code",
   "execution_count": 1,
   "metadata": {
    "colab": {},
    "colab_type": "code",
    "id": "0F1eTX_HgMLh"
   },
   "outputs": [],
   "source": [
    "#!/usr/bin/env python\n",
    "# -*- coding: utf-8 -*-\n",
    "\n",
    "# Lab 3 SI 618: Fetching and parsing structured documents (100 points)\n",
    "#\n",
    "# The utf8 'magic comment' is to tell Python that this source code will\n",
    "# contain unicode literals outside of the ISO-Latin-1 character set.\n",
    "\n",
    "# Some lines of code are taken from Google's Python Class\n",
    "# http://code.google.com/edu/languages/google-python-class/  and\n",
    "# an earlier lab by Dr. Yuhang Wang.\n",
    "\n",
    "# The purpose of this lab is to have you practice using some powerful\n",
    "# modules for fetching and parsing content:\n",
    "#    urllib3 : for fetching the content of a URL (e.g. HTML page)\n",
    "#    BeautifulSoup : for parsing HTML and XML pages\n",
    "#    json : for JSON reading and writing\n",
    "#\n",
    "# You should fill in the code for the functions below.\n",
    "# main() is already set up to call the functions with a few different inputs,\n",
    "# printing 'OK' when each function is correct."
   ]
  },
  {
   "cell_type": "code",
   "execution_count": 2,
   "metadata": {
    "colab": {},
    "colab_type": "code",
    "id": "y5wSnVq6gWSE"
   },
   "outputs": [],
   "source": [
    "from bs4 import BeautifulSoup\n",
    "import json\n",
    "import urllib3"
   ]
  },
  {
   "cell_type": "code",
   "execution_count": 3,
   "metadata": {
    "colab": {},
    "colab_type": "code",
    "id": "thQfkldhgcQe"
   },
   "outputs": [],
   "source": [
    "# We will get the University of Michigan wikipedia page using urllib3. This will be the html used in the lab\n",
    "http = urllib3.PoolManager()\n",
    "response = http.request(\"GET\", 'https://en.wikipedia.org/wiki/University_of_Michigan')\n",
    "html_doc = response.data.decode('utf-8')"
   ]
  },
  {
   "cell_type": "code",
   "execution_count": 4,
   "metadata": {
    "colab": {},
    "colab_type": "code",
    "id": "hIp9kXF2ghjp"
   },
   "outputs": [],
   "source": [
    "# this is the json string used in this lab. It is a tweet posted in the CDC Twitter account regarding COVID vaccines on 9/10/2021 \n",
    "json_str = open(\"tweet.json\",\"r\").read()"
   ]
  },
  {
   "cell_type": "code",
   "execution_count": 5,
   "metadata": {
    "colab": {},
    "colab_type": "code",
    "id": "lMOsmCgrgk6R"
   },
   "outputs": [],
   "source": [
    "\n",
    "# Q1. get_title (5 points)\n",
    "# The get_title function should should process the HTML page stored in the global\n",
    "# variable html_doc, and return the title of the page in a unicode string.\n",
    "# get_title() should return 'University of Michigan - Wikipedia'\n",
    "def get_title():\n",
    "    soup=BeautifulSoup(html_doc)\n",
    "    return soup.title.contents[0]"
   ]
  },
  {
   "cell_type": "code",
   "execution_count": 6,
   "metadata": {},
   "outputs": [
    {
     "data": {
      "text/plain": [
       "'University of Michigan - Wikipedia'"
      ]
     },
     "execution_count": 6,
     "metadata": {},
     "output_type": "execute_result"
    }
   ],
   "source": [
    "get_title()"
   ]
  },
  {
   "cell_type": "code",
   "execution_count": 7,
   "metadata": {
    "colab": {},
    "colab_type": "code",
    "id": "up_14ZTSglvj"
   },
   "outputs": [],
   "source": [
    "# Q2. get_tweet_image_attachment_url (10 points)\n",
    "# The get_tweet_image_attachment_url function should load the dictionary stored as a JSON string\n",
    "# in global variable json_str, and return the secure link for the image file attached in the tweet.\n",
    "# get_tweet_image_attachment_url() should return https://pbs.twimg.com/media/E-8npfCWYAMzdlC.jpg\n",
    "def get_tweet_image_attachment_url():\n",
    "    json_dict = json.loads(json_str)\n",
    "    return json_dict['entities']['media'][0]['media_url_https']"
   ]
  },
  {
   "cell_type": "code",
   "execution_count": 8,
   "metadata": {},
   "outputs": [
    {
     "data": {
      "text/plain": [
       "'https://pbs.twimg.com/media/E-8npfCWYAMzdlC.jpg'"
      ]
     },
     "execution_count": 8,
     "metadata": {},
     "output_type": "execute_result"
    }
   ],
   "source": [
    "get_tweet_image_attachment_url()"
   ]
  },
  {
   "cell_type": "code",
   "execution_count": 9,
   "metadata": {
    "colab": {},
    "colab_type": "code",
    "id": "GbqAEFFzgoff"
   },
   "outputs": [],
   "source": [
    "# Q3. get_wiki_links_count (15 points)\n",
    "# The get_link_count function should process the HTML page stored in the global variable\n",
    "# html_doc, and return the number of links that point back to a wikipedia page\n",
    "# get_wiki_links_count() should return 1619\n",
    "import re\n",
    "def get_wiki_links_count():\n",
    "    soup=BeautifulSoup(html_doc)\n",
    "    return len(soup.find_all(\"a\",{'href': re.compile(r'^/wiki')}))"
   ]
  },
  {
   "cell_type": "code",
   "execution_count": 10,
   "metadata": {},
   "outputs": [
    {
     "data": {
      "text/plain": [
       "1619"
      ]
     },
     "execution_count": 10,
     "metadata": {},
     "output_type": "execute_result"
    }
   ],
   "source": [
    "get_wiki_links_count()"
   ]
  },
  {
   "cell_type": "code",
   "execution_count": 11,
   "metadata": {},
   "outputs": [],
   "source": [
    "# Q4. get_latin_name (10 points)\n",
    "# The get_latin_name function should process the HTML page stored in the global variable\n",
    "# html_doc, and return the name of the university in Latin  (can be found below the University of Michigan Seal image on the table at the start of the page) \n",
    "# get_latin_name() should return 'Universitas Michigania'\n",
    "def get_latin_name():\n",
    "    soup=BeautifulSoup(html_doc)\n",
    "    table = soup.find_all(\"table\",class_=\"infobox vcard\")[0].tbody\n",
    "    return table.find_all(\"tr\")[1].i.contents[0]\n"
   ]
  },
  {
   "cell_type": "code",
   "execution_count": 12,
   "metadata": {},
   "outputs": [
    {
     "data": {
      "text/plain": [
       "'Universitas Michigania'"
      ]
     },
     "execution_count": 12,
     "metadata": {},
     "output_type": "execute_result"
    }
   ],
   "source": [
    "get_latin_name()"
   ]
  },
  {
   "cell_type": "code",
   "execution_count": 13,
   "metadata": {
    "colab": {},
    "colab_type": "code",
    "id": "3encF-gAgq-Z"
   },
   "outputs": [],
   "source": [
    "# Q5. get_first_level_sub_headings (25 points)\n",
    "# The get_first_level_sub_headings function should process the HTML page stored in the global variable\n",
    "# html_doc, and return the first level subheadings from the text of the webpage, WITHOUT USING THE CONTENTS TABLE. \n",
    "# First level headings include 'History', 'Campus' and the like and NOT their sub level headings such as 'Historical Links', 'Central Campus', 'North Campus' etc\n",
    "# Note that it should return a string, not a list. \n",
    "# get_first_level_sub_headings() should return '[\"History\", \"Campus\", \"Organization and administration\", \"Academics\", \"Student body\", \"Student life\", \"Athletics\", \"Museums\", \"Notable alumni\", \"Notes\", \"References\", \"External links\"]'\n",
    "def get_first_level_sub_headings():\n",
    "    soup=BeautifulSoup(html_doc)\n",
    "    h2 = soup.find_all(\"h2\")\n",
    "    subheadings = []\n",
    "    for i in h2:\n",
    "        if (i.span):\n",
    "            subheadings.append(i.find(\"span\").text)\n",
    "            #subheadings.append(i.span.contents[0])\n",
    "    return subheadings"
   ]
  },
  {
   "cell_type": "code",
   "execution_count": 14,
   "metadata": {},
   "outputs": [
    {
     "data": {
      "text/plain": [
       "['History',\n",
       " 'Campus',\n",
       " 'Organization and administration',\n",
       " 'Academics',\n",
       " 'Student body',\n",
       " 'Student life',\n",
       " 'Athletics',\n",
       " 'Museums',\n",
       " 'Notable alumni',\n",
       " 'Notes',\n",
       " 'References',\n",
       " 'External links']"
      ]
     },
     "execution_count": 14,
     "metadata": {},
     "output_type": "execute_result"
    }
   ],
   "source": [
    "get_first_level_sub_headings()"
   ]
  },
  {
   "cell_type": "code",
   "execution_count": 15,
   "metadata": {
    "colab": {},
    "colab_type": "code",
    "id": "oYal-h5ugstz"
   },
   "outputs": [],
   "source": [
    "# Q6. get_school_years_info (35 points)\n",
    "# The get_school_years_info function should process the HTML page stored in the global variable\n",
    "# html_doc, and return information from the info table under the 'Organization and Administration' section. \n",
    "# Note that it should return a string, not a list.\n",
    "# get_school_years_info() should return '{\"Literature, Science, andthe Arts\": \"1841\", \"Medicine\": \"1850\", \"Engineering\": \"1854\", \"Law\": \"1859\", \"Dentistry\": \"1875\", \"Pharmacy\": \"1876\", \"Music, Theatre &Dance\": \"1880\", \"Nursing\": \"1893\", \"Architecture &Urban Planning\": \"1906\", \"Graduate Studies\": \"1912\", \"Government\": \"1914\", \"Education\": \"1921\", \"Business\": \"1924\", \"Environment andSustainability\": \"1927\", \"Public Health\": \"1941\", \"Social Work\": \"1951\", \"Information\": \"1969\", \"Art & Design\": \"1974\", \"Kinesiology\": \"1984\"}'\n",
    "# HINT: construct lists/list of tuples first, and then convert it to a dictionary to turn into a JSON string.\n",
    "def get_school_years_info():\n",
    "    found = {}\n",
    "    soup = BeautifulSoup(html_doc)\n",
    "    yeartable = soup.find(\"table\",class_=\"toccolours\")\n",
    "    for row in yeartable.find_all(\"tr\")[1:]:\n",
    "        found[row.find_all(\"td\")[0].text] = row.find_all(\"td\")[1].text.rstrip()\n",
    "    return found\n"
   ]
  },
  {
   "cell_type": "code",
   "execution_count": 16,
   "metadata": {},
   "outputs": [
    {
     "data": {
      "text/plain": [
       "{'Literature, Science, andthe Arts': '1841',\n",
       " 'Medicine': '1850',\n",
       " 'Engineering': '1854',\n",
       " 'Law': '1859',\n",
       " 'Dentistry': '1875',\n",
       " 'Pharmacy': '1876',\n",
       " 'Music, Theatre &Dance': '1880',\n",
       " 'Nursing': '1893',\n",
       " 'Architecture &Urban Planning': '1906',\n",
       " 'Graduate Studies': '1912',\n",
       " 'Government': '1914',\n",
       " 'Education': '1921',\n",
       " 'Business': '1924',\n",
       " 'Environment andSustainability': '1927',\n",
       " 'Public Health': '1941',\n",
       " 'Social Work': '1951',\n",
       " 'Information': '1969',\n",
       " 'Art & Design': '1974',\n",
       " 'Kinesiology': '1984'}"
      ]
     },
     "execution_count": 16,
     "metadata": {},
     "output_type": "execute_result"
    }
   ],
   "source": [
    "get_school_years_info()"
   ]
  },
  {
   "cell_type": "code",
   "execution_count": 17,
   "metadata": {
    "colab": {},
    "colab_type": "code",
    "id": "Ywe9UTwKg3-k"
   },
   "outputs": [],
   "source": [
    "#######################################################################\n",
    "# DO NOT MODIFY ANY CODE BELOW\n",
    "#######################################################################\n",
    "\n",
    "# Provided simple test() function used in main() to print\n",
    "# what each function returns vs. what it's supposed to return.\n",
    "def test(got, expected):\n",
    "  if got == expected:\n",
    "    prefix = ' Test Passed '\n",
    "  else:\n",
    "    prefix = '  Test Not Passed '\n",
    "  print ('%s got: %s expected: %s' % (prefix, repr(got), repr(expected)))\n",
    "  print()\n",
    "\n",
    "# Provided main() calls the above functions with interesting inputs,\n",
    "# using test() to check if each result is correct or not."
   ]
  },
  {
   "cell_type": "code",
   "execution_count": 18,
   "metadata": {
    "colab": {},
    "colab_type": "code",
    "id": "W3WNuUXig7t9"
   },
   "outputs": [],
   "source": [
    "def main():\n",
    "  print ('get_title')\n",
    "\n",
    "  test(get_title(), 'University of Michigan - Wikipedia')\n",
    "  \n",
    "  print ('get_tweet_image_attachment_url')\n",
    "\n",
    "  test(get_tweet_image_attachment_url(), \"https://pbs.twimg.com/media/E-8npfCWYAMzdlC.jpg\")\n",
    "\n",
    "  print ('get_wiki_links_count')\n",
    "\n",
    "  test(get_wiki_links_count(), 1619)\n",
    "\n",
    "  print ('get_latin_name')\n",
    "\n",
    "  test(get_latin_name(), 'Universitas Michigania')\n",
    "  \n",
    "  print ('get_first_level_sub_headings')\n",
    "\n",
    "  test(get_first_level_sub_headings(), '[\"History\", \"Campus\", \"Organization and administration\", \"Academics\", \"Student body\", \"Student life\", \"Athletics\", \"Museums\", \"Notable alumni\", \"Notes\", \"References\", \"External links\"]')\n",
    "\n",
    "  print ('get_school_info')\n",
    "\n",
    "  test(get_school_years_info(), '{\"Literature, Science, andthe Arts\": \"1841\", \"Medicine\": \"1850\", \"Engineering\": \"1854\", \"Law\": \"1859\", \"Dentistry\": \"1875\", \"Pharmacy\": \"1876\", \"Music, Theatre &Dance\": \"1880\", \"Nursing\": \"1893\", \"Architecture &Urban Planning\": \"1906\", \"Graduate Studies\": \"1912\", \"Government\": \"1914\", \"Education\": \"1921\", \"Business\": \"1924\", \"Environment andSustainability\": \"1927\", \"Public Health\": \"1941\", \"Social Work\": \"1951\", \"Information\": \"1969\", \"Art & Design\": \"1974\", \"Kinesiology\": \"1984\"}')"
   ]
  },
  {
   "cell_type": "code",
   "execution_count": 19,
   "metadata": {
    "colab": {
     "base_uri": "https://localhost:8080/",
     "height": 221
    },
    "colab_type": "code",
    "id": "6Aa-8fPjg-kK",
    "outputId": "ac0a069d-509b-4e35-dbba-8d0013ea9577"
   },
   "outputs": [
    {
     "name": "stdout",
     "output_type": "stream",
     "text": [
      "get_title\n",
      " Test Passed  got: 'University of Michigan - Wikipedia' expected: 'University of Michigan - Wikipedia'\n",
      "\n",
      "get_tweet_image_attachment_url\n",
      " Test Passed  got: 'https://pbs.twimg.com/media/E-8npfCWYAMzdlC.jpg' expected: 'https://pbs.twimg.com/media/E-8npfCWYAMzdlC.jpg'\n",
      "\n",
      "get_wiki_links_count\n",
      " Test Passed  got: 1619 expected: 1619\n",
      "\n",
      "get_latin_name\n",
      " Test Passed  got: 'Universitas Michigania' expected: 'Universitas Michigania'\n",
      "\n",
      "get_first_level_sub_headings\n",
      "  Test Not Passed  got: ['History', 'Campus', 'Organization and administration', 'Academics', 'Student body', 'Student life', 'Athletics', 'Museums', 'Notable alumni', 'Notes', 'References', 'External links'] expected: '[\"History\", \"Campus\", \"Organization and administration\", \"Academics\", \"Student body\", \"Student life\", \"Athletics\", \"Museums\", \"Notable alumni\", \"Notes\", \"References\", \"External links\"]'\n",
      "\n",
      "get_school_info\n",
      "  Test Not Passed  got: {'Literature, Science, andthe Arts': '1841', 'Medicine': '1850', 'Engineering': '1854', 'Law': '1859', 'Dentistry': '1875', 'Pharmacy': '1876', 'Music, Theatre &Dance': '1880', 'Nursing': '1893', 'Architecture &Urban Planning': '1906', 'Graduate Studies': '1912', 'Government': '1914', 'Education': '1921', 'Business': '1924', 'Environment andSustainability': '1927', 'Public Health': '1941', 'Social Work': '1951', 'Information': '1969', 'Art & Design': '1974', 'Kinesiology': '1984'} expected: '{\"Literature, Science, andthe Arts\": \"1841\", \"Medicine\": \"1850\", \"Engineering\": \"1854\", \"Law\": \"1859\", \"Dentistry\": \"1875\", \"Pharmacy\": \"1876\", \"Music, Theatre &Dance\": \"1880\", \"Nursing\": \"1893\", \"Architecture &Urban Planning\": \"1906\", \"Graduate Studies\": \"1912\", \"Government\": \"1914\", \"Education\": \"1921\", \"Business\": \"1924\", \"Environment andSustainability\": \"1927\", \"Public Health\": \"1941\", \"Social Work\": \"1951\", \"Information\": \"1969\", \"Art & Design\": \"1974\", \"Kinesiology\": \"1984\"}'\n",
      "\n"
     ]
    }
   ],
   "source": [
    "# Standard boilerplate to call the main() function.\n",
    "if __name__ == '__main__':\n",
    "  main()"
   ]
  }
 ],
 "metadata": {
  "colab": {
   "collapsed_sections": [],
   "name": "si618_lab3.ipynb",
   "provenance": []
  },
  "kernelspec": {
   "display_name": "Python 3 (ipykernel)",
   "language": "python",
   "name": "python3"
  },
  "language_info": {
   "codemirror_mode": {
    "name": "ipython",
    "version": 3
   },
   "file_extension": ".py",
   "mimetype": "text/x-python",
   "name": "python",
   "nbconvert_exporter": "python",
   "pygments_lexer": "ipython3",
   "version": "3.9.7"
  },
  "vscode": {
   "interpreter": {
    "hash": "31f2aee4e71d21fbe5cf8b01ff0e069b9275f58929596ceb00d14d90e3e16cd6"
   }
  }
 },
 "nbformat": 4,
 "nbformat_minor": 2
}
