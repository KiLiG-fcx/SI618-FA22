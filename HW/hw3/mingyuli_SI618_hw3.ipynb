{
 "cells": [
  {
   "cell_type": "markdown",
   "metadata": {},
   "source": [
    "# SI 618 Fall 2022 Homework 3 (100 points)"
   ]
  },
  {
   "cell_type": "markdown",
   "metadata": {},
   "source": [
    "## Part 1 (80 points) "
   ]
  },
  {
   "cell_type": "markdown",
   "metadata": {},
   "source": [
    "The provided ‘movie_actors_data.txt’ file contains a JSON string on each line. For example, the first line is: \n",
    "\n",
    ">{\"rating\": 9.3, \"genres\": [\"Crime\", \"Drama\"], \"rated\": \"R\", \"filming_locations\": \"Ashland, Ohio, USA\", \"language\": [\"English\"], \"title\": \"The Shawshank Redemption\", \"runtime\": [\"142 min\"], \"poster\": \"http://img3.douban.com/lpic/s1311361.jpg\", \"imdb_url\": \"http://www.imdb.com/title/tt0111161/\", \"writers\": [\"Stephen King\", \"Frank Darabont\"], \"imdb_id\": \"tt0111161\", \"directors\": [\"Frank Darabont\"], \"rating_count\": 894012, \"actors\": [\"Tim Robbins\", \"Morgan Freeman\", \"Bob Gunton\", \"William Sadler\", \"Clancy Brown\", \"Gil Bellows\", \"Mark Rolston\", \"James Whitmore\", \"Jeffrey DeMunn\", \"Larry Brandenburg\", \"Neil Giuntoli\", \"Brian Libby\", \"David Proval\", \"Joseph Ragno\", \"Jude Ciccolella\"], \"plot_simple\": \"Two imprisoned men bond over a number of years, finding solace and eventual redemption through acts of common decency.\", \"year\": 1994, \"country\": [\"USA\"], \"type\": \"M\", \"release_date\": 19941014, \"also_known_as\": [\"Die Verurteilten\"]}\n",
    "\n",
    "The fields we are interested in are imdb_id, title , rating, genres, actors, directors, year, and country. You will parse the JSON strings, and load the data into three tables in SQLite, and then write SQL queries to retrieve the data specified. \n",
    "\n",
    "You will create 4 tables: \n",
    "* The “movies” table, which has four columns: imdb_id, title, year, rating, country  ",
    "\n",
    "\n",
    "* The “movie_genre” table, which has two columns: imdb_id and genre. A movie typically has multiple genres, and in this case, there should be one row for each genre. If some movie does not have any genre, ignore that movie.  ",
    "\n",
    "\n",
    "* The “movie_actor” table, which has two columns imdb_id and actor. A movie typically has multiple actors, and in this case, there should be one row for each actor. \n",
    "\n",
    "* The “movie_director” table, which has two columns imdb_id and director. A movie typically has multiple directors, and in this case, there should be one row for each director. \n",
    "\n",
    "**When you run your Python code, it should print out EXACTLY the output provided.**"
   ]
  },
  {
   "cell_type": "markdown",
   "metadata": {},
   "source": [
    "#### Q1. (10 points) Parse input file to get needed data for the three tables and load them into appropriate Python data structure. "
   ]
  },
  {
   "cell_type": "code",
   "execution_count": 1,
   "metadata": {},
   "outputs": [],
   "source": [
    "from bs4 import BeautifulSoup\n",
    "import json\n",
    "import urllib3\n",
    "import pandas as pd"
   ]
  },
  {
   "cell_type": "code",
   "execution_count": 2,
   "metadata": {},
   "outputs": [],
   "source": [
    "json_movie = open(\"movie_actors_data.txt\",'r')\n",
    "all_movie = []\n",
    "for s in json_movie.readlines():\n",
    "    all_movie.append(json.loads(s))"
   ]
  },
  {
   "cell_type": "markdown",
   "metadata": {},
   "source": [
    "#### Q2. (5 points) Create the movies table and load data into it. Note that you only need to consider the first country if there are multiple countries associated with a movie. Read and show the first 5 rows of the movies table in your SQLite database."
   ]
  },
  {
   "cell_type": "code",
   "execution_count": 3,
   "metadata": {},
   "outputs": [],
   "source": [
    "movie_lst = []\n",
    "for jsondata in all_movie:\n",
    "    dataset = [jsondata['imdb_id'],jsondata['title'],jsondata['year'],jsondata['rating'],jsondata['country'][0]]\n",
    "    movie_lst.append(dataset)\n",
    "movies = pd.DataFrame(movie_lst, columns=['imdb_id','title','year','rating','country'])"
   ]
  },
  {
   "cell_type": "code",
   "execution_count": 4,
   "metadata": {},
   "outputs": [
    {
     "data": {
      "text/html": [
       "<div>\n",
       "<style scoped>\n",
       "    .dataframe tbody tr th:only-of-type {\n",
       "        vertical-align: middle;\n",
       "    }\n",
       "\n",
       "    .dataframe tbody tr th {\n",
       "        vertical-align: top;\n",
       "    }\n",
       "\n",
       "    .dataframe thead th {\n",
       "        text-align: right;\n",
       "    }\n",
       "</style>\n",
       "<table border=\"1\" class=\"dataframe\">\n",
       "  <thead>\n",
       "    <tr style=\"text-align: right;\">\n",
       "      <th></th>\n",
       "      <th>imdb_id</th>\n",
       "      <th>title</th>\n",
       "      <th>year</th>\n",
       "      <th>rating</th>\n",
       "      <th>country</th>\n",
       "    </tr>\n",
       "  </thead>\n",
       "  <tbody>\n",
       "    <tr>\n",
       "      <th>0</th>\n",
       "      <td>tt0111161</td>\n",
       "      <td>The Shawshank Redemption</td>\n",
       "      <td>1994</td>\n",
       "      <td>9.3</td>\n",
       "      <td>USA</td>\n",
       "    </tr>\n",
       "    <tr>\n",
       "      <th>1</th>\n",
       "      <td>tt0068646</td>\n",
       "      <td>The Godfather</td>\n",
       "      <td>1972</td>\n",
       "      <td>9.2</td>\n",
       "      <td>USA</td>\n",
       "    </tr>\n",
       "    <tr>\n",
       "      <th>2</th>\n",
       "      <td>tt0071562</td>\n",
       "      <td>The Godfather: Part II</td>\n",
       "      <td>1974</td>\n",
       "      <td>9.1</td>\n",
       "      <td>USA</td>\n",
       "    </tr>\n",
       "    <tr>\n",
       "      <th>3</th>\n",
       "      <td>tt0110912</td>\n",
       "      <td>Pulp Fiction</td>\n",
       "      <td>1994</td>\n",
       "      <td>9.0</td>\n",
       "      <td>USA</td>\n",
       "    </tr>\n",
       "    <tr>\n",
       "      <th>4</th>\n",
       "      <td>tt0060196</td>\n",
       "      <td>Il buono, il brutto, il cattivo.</td>\n",
       "      <td>1966</td>\n",
       "      <td>9.0</td>\n",
       "      <td>Italy</td>\n",
       "    </tr>\n",
       "  </tbody>\n",
       "</table>\n",
       "</div>"
      ],
      "text/plain": [
       "     imdb_id                             title  year  rating country\n",
       "0  tt0111161          The Shawshank Redemption  1994     9.3     USA\n",
       "1  tt0068646                     The Godfather  1972     9.2     USA\n",
       "2  tt0071562            The Godfather: Part II  1974     9.1     USA\n",
       "3  tt0110912                      Pulp Fiction  1994     9.0     USA\n",
       "4  tt0060196  Il buono, il brutto, il cattivo.  1966     9.0   Italy"
      ]
     },
     "execution_count": 4,
     "metadata": {},
     "output_type": "execute_result"
    }
   ],
   "source": [
    "movies.head(5)"
   ]
  },
  {
   "cell_type": "markdown",
   "metadata": {},
   "source": [
    "#### Q3. (5 points) Create the movie_genre table and load data into it."
   ]
  },
  {
   "cell_type": "code",
   "execution_count": 5,
   "metadata": {},
   "outputs": [],
   "source": [
    "genre_lst = []\n",
    "for jsondata in all_movie:\n",
    "    if jsondata['genres']:\n",
    "        for genre in jsondata['genres']:\n",
    "            genre = [jsondata['imdb_id'],genre]\n",
    "            genre_lst.append(genre)\n",
    "\n",
    "movie_genre = pd.DataFrame(genre_lst, columns=['imdb_id','genre'])"
   ]
  },
  {
   "cell_type": "code",
   "execution_count": 6,
   "metadata": {},
   "outputs": [
    {
     "data": {
      "text/html": [
       "<div>\n",
       "<style scoped>\n",
       "    .dataframe tbody tr th:only-of-type {\n",
       "        vertical-align: middle;\n",
       "    }\n",
       "\n",
       "    .dataframe tbody tr th {\n",
       "        vertical-align: top;\n",
       "    }\n",
       "\n",
       "    .dataframe thead th {\n",
       "        text-align: right;\n",
       "    }\n",
       "</style>\n",
       "<table border=\"1\" class=\"dataframe\">\n",
       "  <thead>\n",
       "    <tr style=\"text-align: right;\">\n",
       "      <th></th>\n",
       "      <th>imdb_id</th>\n",
       "      <th>genre</th>\n",
       "    </tr>\n",
       "  </thead>\n",
       "  <tbody>\n",
       "    <tr>\n",
       "      <th>0</th>\n",
       "      <td>tt0111161</td>\n",
       "      <td>Crime</td>\n",
       "    </tr>\n",
       "    <tr>\n",
       "      <th>1</th>\n",
       "      <td>tt0111161</td>\n",
       "      <td>Drama</td>\n",
       "    </tr>\n",
       "    <tr>\n",
       "      <th>2</th>\n",
       "      <td>tt0068646</td>\n",
       "      <td>Crime</td>\n",
       "    </tr>\n",
       "    <tr>\n",
       "      <th>3</th>\n",
       "      <td>tt0068646</td>\n",
       "      <td>Drama</td>\n",
       "    </tr>\n",
       "    <tr>\n",
       "      <th>4</th>\n",
       "      <td>tt0071562</td>\n",
       "      <td>Crime</td>\n",
       "    </tr>\n",
       "    <tr>\n",
       "      <th>5</th>\n",
       "      <td>tt0071562</td>\n",
       "      <td>Drama</td>\n",
       "    </tr>\n",
       "    <tr>\n",
       "      <th>6</th>\n",
       "      <td>tt0110912</td>\n",
       "      <td>Crime</td>\n",
       "    </tr>\n",
       "    <tr>\n",
       "      <th>7</th>\n",
       "      <td>tt0110912</td>\n",
       "      <td>Thriller</td>\n",
       "    </tr>\n",
       "    <tr>\n",
       "      <th>8</th>\n",
       "      <td>tt0060196</td>\n",
       "      <td>Adventure</td>\n",
       "    </tr>\n",
       "    <tr>\n",
       "      <th>9</th>\n",
       "      <td>tt0060196</td>\n",
       "      <td>Western</td>\n",
       "    </tr>\n",
       "    <tr>\n",
       "      <th>10</th>\n",
       "      <td>tt0050083</td>\n",
       "      <td>Drama</td>\n",
       "    </tr>\n",
       "    <tr>\n",
       "      <th>11</th>\n",
       "      <td>tt0050083</td>\n",
       "      <td>Mystery</td>\n",
       "    </tr>\n",
       "    <tr>\n",
       "      <th>12</th>\n",
       "      <td>tt0468569</td>\n",
       "      <td>Action</td>\n",
       "    </tr>\n",
       "    <tr>\n",
       "      <th>13</th>\n",
       "      <td>tt0468569</td>\n",
       "      <td>Crime</td>\n",
       "    </tr>\n",
       "    <tr>\n",
       "      <th>14</th>\n",
       "      <td>tt0468569</td>\n",
       "      <td>Drama</td>\n",
       "    </tr>\n",
       "    <tr>\n",
       "      <th>15</th>\n",
       "      <td>tt0468569</td>\n",
       "      <td>Thriller</td>\n",
       "    </tr>\n",
       "    <tr>\n",
       "      <th>16</th>\n",
       "      <td>tt0108052</td>\n",
       "      <td>Biography</td>\n",
       "    </tr>\n",
       "    <tr>\n",
       "      <th>17</th>\n",
       "      <td>tt0108052</td>\n",
       "      <td>Drama</td>\n",
       "    </tr>\n",
       "    <tr>\n",
       "      <th>18</th>\n",
       "      <td>tt0108052</td>\n",
       "      <td>History</td>\n",
       "    </tr>\n",
       "    <tr>\n",
       "      <th>19</th>\n",
       "      <td>tt0108052</td>\n",
       "      <td>War</td>\n",
       "    </tr>\n",
       "  </tbody>\n",
       "</table>\n",
       "</div>"
      ],
      "text/plain": [
       "      imdb_id      genre\n",
       "0   tt0111161      Crime\n",
       "1   tt0111161      Drama\n",
       "2   tt0068646      Crime\n",
       "3   tt0068646      Drama\n",
       "4   tt0071562      Crime\n",
       "5   tt0071562      Drama\n",
       "6   tt0110912      Crime\n",
       "7   tt0110912   Thriller\n",
       "8   tt0060196  Adventure\n",
       "9   tt0060196    Western\n",
       "10  tt0050083      Drama\n",
       "11  tt0050083    Mystery\n",
       "12  tt0468569     Action\n",
       "13  tt0468569      Crime\n",
       "14  tt0468569      Drama\n",
       "15  tt0468569   Thriller\n",
       "16  tt0108052  Biography\n",
       "17  tt0108052      Drama\n",
       "18  tt0108052    History\n",
       "19  tt0108052        War"
      ]
     },
     "execution_count": 6,
     "metadata": {},
     "output_type": "execute_result"
    }
   ],
   "source": [
    "movie_genre.head(20)"
   ]
  },
  {
   "cell_type": "markdown",
   "metadata": {},
   "source": [
    "#### Q4. (5 points) Create the movie_actor table and load data into it."
   ]
  },
  {
   "cell_type": "code",
   "execution_count": 7,
   "metadata": {},
   "outputs": [],
   "source": [
    "actor_lst = []\n",
    "for jsondata in all_movie:\n",
    "    for actor in jsondata['actors']:\n",
    "        row = [jsondata['imdb_id'], actor]\n",
    "        actor_lst.append(row)\n",
    "        \n",
    "movie_actor = pd.DataFrame(actor_lst, columns = ['imdb_id', 'actor'])"
   ]
  },
  {
   "cell_type": "code",
   "execution_count": 8,
   "metadata": {},
   "outputs": [
    {
     "data": {
      "text/html": [
       "<div>\n",
       "<style scoped>\n",
       "    .dataframe tbody tr th:only-of-type {\n",
       "        vertical-align: middle;\n",
       "    }\n",
       "\n",
       "    .dataframe tbody tr th {\n",
       "        vertical-align: top;\n",
       "    }\n",
       "\n",
       "    .dataframe thead th {\n",
       "        text-align: right;\n",
       "    }\n",
       "</style>\n",
       "<table border=\"1\" class=\"dataframe\">\n",
       "  <thead>\n",
       "    <tr style=\"text-align: right;\">\n",
       "      <th></th>\n",
       "      <th>imdb_id</th>\n",
       "      <th>actor</th>\n",
       "    </tr>\n",
       "  </thead>\n",
       "  <tbody>\n",
       "    <tr>\n",
       "      <th>0</th>\n",
       "      <td>tt0111161</td>\n",
       "      <td>Tim Robbins</td>\n",
       "    </tr>\n",
       "    <tr>\n",
       "      <th>1</th>\n",
       "      <td>tt0111161</td>\n",
       "      <td>Morgan Freeman</td>\n",
       "    </tr>\n",
       "    <tr>\n",
       "      <th>2</th>\n",
       "      <td>tt0111161</td>\n",
       "      <td>Bob Gunton</td>\n",
       "    </tr>\n",
       "    <tr>\n",
       "      <th>3</th>\n",
       "      <td>tt0111161</td>\n",
       "      <td>William Sadler</td>\n",
       "    </tr>\n",
       "    <tr>\n",
       "      <th>4</th>\n",
       "      <td>tt0111161</td>\n",
       "      <td>Clancy Brown</td>\n",
       "    </tr>\n",
       "    <tr>\n",
       "      <th>5</th>\n",
       "      <td>tt0111161</td>\n",
       "      <td>Gil Bellows</td>\n",
       "    </tr>\n",
       "    <tr>\n",
       "      <th>6</th>\n",
       "      <td>tt0111161</td>\n",
       "      <td>Mark Rolston</td>\n",
       "    </tr>\n",
       "    <tr>\n",
       "      <th>7</th>\n",
       "      <td>tt0111161</td>\n",
       "      <td>James Whitmore</td>\n",
       "    </tr>\n",
       "    <tr>\n",
       "      <th>8</th>\n",
       "      <td>tt0111161</td>\n",
       "      <td>Jeffrey DeMunn</td>\n",
       "    </tr>\n",
       "    <tr>\n",
       "      <th>9</th>\n",
       "      <td>tt0111161</td>\n",
       "      <td>Larry Brandenburg</td>\n",
       "    </tr>\n",
       "  </tbody>\n",
       "</table>\n",
       "</div>"
      ],
      "text/plain": [
       "     imdb_id              actor\n",
       "0  tt0111161        Tim Robbins\n",
       "1  tt0111161     Morgan Freeman\n",
       "2  tt0111161         Bob Gunton\n",
       "3  tt0111161     William Sadler\n",
       "4  tt0111161       Clancy Brown\n",
       "5  tt0111161        Gil Bellows\n",
       "6  tt0111161       Mark Rolston\n",
       "7  tt0111161     James Whitmore\n",
       "8  tt0111161     Jeffrey DeMunn\n",
       "9  tt0111161  Larry Brandenburg"
      ]
     },
     "execution_count": 8,
     "metadata": {},
     "output_type": "execute_result"
    }
   ],
   "source": [
    "movie_actor.head(10)"
   ]
  },
  {
   "cell_type": "markdown",
   "metadata": {},
   "source": [
    "#### Q5. (5 points) Create the movie_director table and load data into it."
   ]
  },
  {
   "cell_type": "code",
   "execution_count": 9,
   "metadata": {},
   "outputs": [],
   "source": [
    "director_lst = []\n",
    "for jsondata in all_movie:\n",
    "    for director in jsondata['directors']:\n",
    "        row = [jsondata['imdb_id'], director]\n",
    "        director_lst.append(row)\n",
    "        \n",
    "movie_director = pd.DataFrame(director_lst, columns = ['imdb_id', 'director'])"
   ]
  },
  {
   "cell_type": "code",
   "execution_count": 10,
   "metadata": {},
   "outputs": [
    {
     "data": {
      "text/html": [
       "<div>\n",
       "<style scoped>\n",
       "    .dataframe tbody tr th:only-of-type {\n",
       "        vertical-align: middle;\n",
       "    }\n",
       "\n",
       "    .dataframe tbody tr th {\n",
       "        vertical-align: top;\n",
       "    }\n",
       "\n",
       "    .dataframe thead th {\n",
       "        text-align: right;\n",
       "    }\n",
       "</style>\n",
       "<table border=\"1\" class=\"dataframe\">\n",
       "  <thead>\n",
       "    <tr style=\"text-align: right;\">\n",
       "      <th></th>\n",
       "      <th>imdb_id</th>\n",
       "      <th>director</th>\n",
       "    </tr>\n",
       "  </thead>\n",
       "  <tbody>\n",
       "    <tr>\n",
       "      <th>0</th>\n",
       "      <td>tt0111161</td>\n",
       "      <td>Frank Darabont</td>\n",
       "    </tr>\n",
       "    <tr>\n",
       "      <th>1</th>\n",
       "      <td>tt0068646</td>\n",
       "      <td>Francis Ford Coppola</td>\n",
       "    </tr>\n",
       "    <tr>\n",
       "      <th>2</th>\n",
       "      <td>tt0071562</td>\n",
       "      <td>Francis Ford Coppola</td>\n",
       "    </tr>\n",
       "    <tr>\n",
       "      <th>3</th>\n",
       "      <td>tt0110912</td>\n",
       "      <td>Quentin Tarantino</td>\n",
       "    </tr>\n",
       "    <tr>\n",
       "      <th>4</th>\n",
       "      <td>tt0060196</td>\n",
       "      <td>Sergio Leone</td>\n",
       "    </tr>\n",
       "    <tr>\n",
       "      <th>5</th>\n",
       "      <td>tt0050083</td>\n",
       "      <td>Sidney Lumet</td>\n",
       "    </tr>\n",
       "    <tr>\n",
       "      <th>6</th>\n",
       "      <td>tt0468569</td>\n",
       "      <td>Christopher Nolan</td>\n",
       "    </tr>\n",
       "    <tr>\n",
       "      <th>7</th>\n",
       "      <td>tt0108052</td>\n",
       "      <td>Steven Spielberg</td>\n",
       "    </tr>\n",
       "    <tr>\n",
       "      <th>8</th>\n",
       "      <td>tt0167260</td>\n",
       "      <td>Peter Jackson</td>\n",
       "    </tr>\n",
       "    <tr>\n",
       "      <th>9</th>\n",
       "      <td>tt0137523</td>\n",
       "      <td>David Fincher</td>\n",
       "    </tr>\n",
       "  </tbody>\n",
       "</table>\n",
       "</div>"
      ],
      "text/plain": [
       "     imdb_id              director\n",
       "0  tt0111161        Frank Darabont\n",
       "1  tt0068646  Francis Ford Coppola\n",
       "2  tt0071562  Francis Ford Coppola\n",
       "3  tt0110912     Quentin Tarantino\n",
       "4  tt0060196          Sergio Leone\n",
       "5  tt0050083          Sidney Lumet\n",
       "6  tt0468569     Christopher Nolan\n",
       "7  tt0108052      Steven Spielberg\n",
       "8  tt0167260         Peter Jackson\n",
       "9  tt0137523         David Fincher"
      ]
     },
     "execution_count": 10,
     "metadata": {},
     "output_type": "execute_result"
    }
   ],
   "source": [
    "movie_director.head(10)"
   ]
  },
  {
   "cell_type": "markdown",
   "metadata": {},
   "source": [
    "#### Q6. (10 points) Write a SQL query to find the number of released movies by decade in chronological order. (Note: you will need to round *down* years to get the corresponding decade. e.g. 2009 belongs to the 2000s)\n",
    "```\n",
    "Number of movies broken down by decade: Decade, Number\n",
    "1920, 5\n",
    "1930, 8\n",
    "1940, 16\n",
    "1950, 30\n",
    "1960, 23\n",
    "1970, 24\n",
    "1980, 26\n",
    "1990, 38\n",
    "2000, 57\n",
    "2010, 21\n",
    "\n",
    "```"
   ]
  },
  {
   "cell_type": "code",
   "execution_count": 11,
   "metadata": {},
   "outputs": [],
   "source": [
    "import sqlite3\n",
    "import math"
   ]
  },
  {
   "cell_type": "code",
   "execution_count": 12,
   "metadata": {},
   "outputs": [],
   "source": [
    "movie_conn = sqlite3.connect('moviessql')\n",
    "movie_c = movie_conn.cursor()\n",
    "movie_c.execute('CREATE TABLE IF NOT EXISTS movies (imdb_id, title, year, rating, country)')\n",
    "movie_conn.commit()"
   ]
  },
  {
   "cell_type": "code",
   "execution_count": 13,
   "metadata": {},
   "outputs": [],
   "source": [
    "movies.to_sql('movies', movie_conn, if_exists='replace', index = False)"
   ]
  },
  {
   "cell_type": "code",
   "execution_count": 14,
   "metadata": {},
   "outputs": [
    {
     "data": {
      "text/plain": [
       "<sqlite3.Cursor at 0x1ebc9dcbab0>"
      ]
     },
     "execution_count": 14,
     "metadata": {},
     "output_type": "execute_result"
    }
   ],
   "source": [
    "movie_c.execute('''\n",
    "SELECT CAST((year/10)*10 as int),COUNT(imdb_id) FROM movies GROUP BY CAST((year/10)*10 as int)\n",
    "''')"
   ]
  },
  {
   "cell_type": "code",
   "execution_count": 15,
   "metadata": {},
   "outputs": [
    {
     "name": "stdout",
     "output_type": "stream",
     "text": [
      "(1920, 5)\n",
      "(1930, 8)\n",
      "(1940, 16)\n",
      "(1950, 30)\n",
      "(1960, 23)\n",
      "(1970, 24)\n",
      "(1980, 26)\n",
      "(1990, 38)\n",
      "(2000, 57)\n",
      "(2010, 21)\n"
     ]
    }
   ],
   "source": [
    "for row in movie_c.fetchall():\n",
    "    print(row)"
   ]
  },
  {
   "cell_type": "markdown",
   "metadata": {},
   "source": [
    "#### Q7. (10 points) Write a SQL query to find the top 5 genres in the US by the average ratings of movies in that genre. Print out the results.\n",
    "```\n",
    "Top 5 genres in the US: Genre, AvgRatings\n",
    "Action, 8.461290322580647\n",
    "War, 8.413333333333332\n",
    "Crime, 8.408695652173916\n",
    "Music, 8.4\n",
    "Sci-Fi, 8.385000000000002\n",
    "```"
   ]
  },
  {
   "cell_type": "code",
   "execution_count": 16,
   "metadata": {},
   "outputs": [
    {
     "data": {
      "text/plain": [
       "<sqlite3.Cursor at 0x1ebc9dcbab0>"
      ]
     },
     "execution_count": 16,
     "metadata": {},
     "output_type": "execute_result"
    }
   ],
   "source": [
    "movie_c.execute('CREATE TABLE IF NOT EXISTS genres (imdb_genre_id, genre )')"
   ]
  },
  {
   "cell_type": "code",
   "execution_count": 17,
   "metadata": {},
   "outputs": [],
   "source": [
    "movie_genre.to_sql('genres', movie_conn, if_exists='replace', index = False)"
   ]
  },
  {
   "cell_type": "code",
   "execution_count": 18,
   "metadata": {},
   "outputs": [
    {
     "data": {
      "text/plain": [
       "<sqlite3.Cursor at 0x1ebc9dcbab0>"
      ]
     },
     "execution_count": 18,
     "metadata": {},
     "output_type": "execute_result"
    }
   ],
   "source": [
    "movie_c.execute(\"SELECT genres.genre, AVG(movies.rating) FROM movies \\\n",
    "                LEFT OUTER JOIN genres ON genres.imdb_id=movies.imdb_id \\\n",
    "                WHERE movies.country='USA' \\\n",
    "                GROUP BY genres.genre \\\n",
    "                ORDER BY AVG(movies.rating) DESC \\\n",
    "                LIMIT 5\")\n"
   ]
  },
  {
   "cell_type": "code",
   "execution_count": 19,
   "metadata": {},
   "outputs": [
    {
     "name": "stdout",
     "output_type": "stream",
     "text": [
      "('Action', 8.461290322580647)\n",
      "('War', 8.413333333333332)\n",
      "('Crime', 8.408695652173916)\n",
      "('Music', 8.4)\n",
      "('Sci-Fi', 8.385000000000002)\n"
     ]
    }
   ],
   "source": [
    "for row in movie_c.fetchall():\n",
    "    print(row)"
   ]
  },
  {
   "cell_type": "markdown",
   "metadata": {},
   "source": [
    "#### Q8. (10 points) Write a SQL query to find the top 10 actors who have worked with the director Christopher Nolan in the most movies. The actors are ordered in decreasing number of movies they worked with the director. In case of ties, the rows are ordered by actors’ names in alphabetical order.\n",
    "\n",
    "```\n",
    "The actors who have worked with Christopher Nolan the most: Name, Times\n",
    "Michael Caine, 5\n",
    "Christian Bale, 4\n",
    "Cillian Murphy, 3\n",
    "Gary Oldman, 3\n",
    "Morgan Freeman, 3\n",
    "Joseph Gordon-Levitt, 2\n",
    "Ken Watanabe, 2\n",
    "Larry Holden, 2\n",
    "Marion Cotillard, 2\n",
    "Mark Boone Junior, 2\n",
    "```"
   ]
  },
  {
   "cell_type": "code",
   "execution_count": 20,
   "metadata": {},
   "outputs": [
    {
     "data": {
      "text/plain": [
       "<sqlite3.Cursor at 0x1ebc9dcbab0>"
      ]
     },
     "execution_count": 20,
     "metadata": {},
     "output_type": "execute_result"
    }
   ],
   "source": [
    "movie_c.execute('CREATE TABLE IF NOT EXISTS actors (imdb_id, actor)')\n",
    "movie_c.execute('CREATE TABLE IF NOT EXISTS directors (imdb_id, director)')"
   ]
  },
  {
   "cell_type": "code",
   "execution_count": 21,
   "metadata": {},
   "outputs": [],
   "source": [
    "movie_actor.to_sql('actors', movie_conn, if_exists='replace', index = False)\n",
    "movie_director.to_sql('directors', movie_conn, if_exists='replace', index = False)"
   ]
  },
  {
   "cell_type": "code",
   "execution_count": 22,
   "metadata": {},
   "outputs": [
    {
     "data": {
      "text/plain": [
       "<sqlite3.Cursor at 0x1ebc9dcbab0>"
      ]
     },
     "execution_count": 22,
     "metadata": {},
     "output_type": "execute_result"
    }
   ],
   "source": [
    "movie_c.execute(\"SELECT actors.actor, COUNT(actors.imdb_id) FROM actors \\\n",
    "                LEFT OUTER JOIN directors ON actors.imdb_id=directors.imdb_id \\\n",
    "                WHERE directors.director='Christopher Nolan' \\\n",
    "                GROUP BY actors.actor \\\n",
    "                ORDER BY COUNT(actors.imdb_id) DESC, actors.actor ASC \\\n",
    "                LIMIT 10\")"
   ]
  },
  {
   "cell_type": "code",
   "execution_count": 23,
   "metadata": {},
   "outputs": [
    {
     "name": "stdout",
     "output_type": "stream",
     "text": [
      "('Michael Caine', 5)\n",
      "('Christian Bale', 4)\n",
      "('Cillian Murphy', 3)\n",
      "('Gary Oldman', 3)\n",
      "('Morgan Freeman', 3)\n",
      "('Joseph Gordon-Levitt', 2)\n",
      "('Ken Watanabe', 2)\n",
      "('Larry Holden', 2)\n",
      "('Marion Cotillard', 2)\n",
      "('Mark Boone Junior', 2)\n"
     ]
    }
   ],
   "source": [
    "for row in movie_c.fetchall():\n",
    "    print(row)"
   ]
  },
  {
   "cell_type": "markdown",
   "metadata": {},
   "source": [
    "#### Q9. (10 points) Write a SQL query to find the top 10 directors based on average ratings of the movies they directed between the years year 1980 and 2010 (begin and end years are included). Only consider those who directed at least 2 movies in this time range. For each director, show their name, average rating of the movies, and the number of movies they directed. Sort the result by descending average movie rating, then by director name in alphabetical order.\n",
    "\n",
    "```\n",
    "Between 1980 and 2010, top 10 highest rated directors based on average movie rating with at least 2 credits:\n",
    "Director, Movies\n",
    "Frank Darabont, 8.9, 2\n",
    "David Fincher, 8.8, 2\n",
    "Peter Jackson, 8.8, 3\n",
    "Christopher Nolan, 8.64, 5\n",
    "Robert Zemeckis, 8.6, 2\n",
    "Steven Spielberg, 8.5, 5\n",
    "Quentin Tarantino, 8.475, 4\n",
    "Stanley Kubrick, 8.45, 2\n",
    "James Cameron, 8.4, 3\n",
    "Ridley Scott, 8.4, 2\n",
    "```\n"
   ]
  },
  {
   "cell_type": "code",
   "execution_count": 24,
   "metadata": {},
   "outputs": [
    {
     "data": {
      "text/plain": [
       "<sqlite3.Cursor at 0x1ebc9dcbab0>"
      ]
     },
     "execution_count": 24,
     "metadata": {},
     "output_type": "execute_result"
    }
   ],
   "source": [
    "movie_c.execute(\"SELECT directors.director, AVG(movies.rating),COUNT(movies.imdb_id) FROM directors \\\n",
    "                LEFT OUTER JOIN movies ON movies.imdb_id=directors.imdb_id \\\n",
    "                WHERE movies.year BETWEEN 1980 AND 2010 \\\n",
    "                GROUP BY directors.director \\\n",
    "                HAVING COUNT(CASE WHEN movies.year BETWEEN 1980 AND 2010 THEN 1 ELSE NULL END)>2 \\\n",
    "                ORDER BY AVG(movies.rating) DESC, directors.director ASC \\\n",
    "                LIMIT 10\")"
   ]
  },
  {
   "cell_type": "code",
   "execution_count": 25,
   "metadata": {},
   "outputs": [
    {
     "data": {
      "text/plain": [
       "<sqlite3.Cursor at 0x1ebc9dcbab0>"
      ]
     },
     "execution_count": 25,
     "metadata": {},
     "output_type": "execute_result"
    }
   ],
   "source": [
    "movie_c.execute(\"SELECT directors.director, AVG(movies.rating),COUNT(movies.imdb_id) FROM directors \\\n",
    "                LEFT OUTER JOIN movies ON movies.imdb_id=directors.imdb_id \\\n",
    "                WHERE movies.year BETWEEN 1980 AND 2010 \\\n",
    "                GROUP BY directors.director \\\n",
    "                HAVING COUNT(movies.imdb_id)>=2 AND movies.year BETWEEN 1980 AND 2010 \\\n",
    "                ORDER BY AVG(movies.rating) DESC, directors.director ASC \\\n",
    "                LIMIT 10\")"
   ]
  },
  {
   "cell_type": "code",
   "execution_count": 26,
   "metadata": {},
   "outputs": [
    {
     "name": "stdout",
     "output_type": "stream",
     "text": [
      "('Frank Darabont', 8.9, 2)\n",
      "('David Fincher', 8.8, 2)\n",
      "('Peter Jackson', 8.8, 3)\n",
      "('Christopher Nolan', 8.64, 5)\n",
      "('Robert Zemeckis', 8.6, 2)\n",
      "('Steven Spielberg', 8.5, 5)\n",
      "('Quentin Tarantino', 8.475, 4)\n",
      "('Stanley Kubrick', 8.45, 2)\n",
      "('James Cameron', 8.4, 3)\n",
      "('Ridley Scott', 8.4, 2)\n"
     ]
    }
   ],
   "source": [
    "for row in movie_c.fetchall():\n",
    "    print(row)"
   ]
  },
  {
   "cell_type": "markdown",
   "metadata": {},
   "source": [
    "#### Q10. (10 points) Write a SQL query for finding pairs of actors who co-starred in at least 2 highly rated (rating > 9) movies together. \n",
    "\n",
    "The pairs of names must be unique. This means that ‘actor A, actor B’ and ‘actor B, actor A’ are the same pair, so only one of them should appear. For each pair of actors you print out, the two actors must be ordered alphabetically. The pairs are ordered in decreasing number of movies they co-stared in. In case of ties, the rows are ordered by actors’ names. \n",
    "\n",
    ">You will need to join the movie_actor table with itself to get this data (in addition to another required join). It is a bit tricky. If you cannot do it with SQL statement, you can also write some Python code that works on the Python data structure that you used to create the movie_actor table. That’ll mean much more lines of code, and if you do it that way, you’ll get 5 points instead of 10 points. You will only get 10 points if you solve it with pure SQL.\n",
    "\n",
    "```\n",
    "Pairs of actors who co-stared in 2 or more highly rated movies: Actor A, Actor B, Co-stared Movies\n",
    "Al Pacino, Diane Keaton, 2\n",
    "Al Pacino, John Cazale, 2\n",
    "Al Pacino, Robert Duvall, 2\n",
    "Al Pacino, Talia Shire, 2\n",
    "Diane Keaton, John Cazale, 2\n",
    "Diane Keaton, Robert Duvall, 2\n",
    "Diane Keaton, Talia Shire, 2\n",
    "John Cazale, Robert Duvall, 2\n",
    "John Cazale, Talia Shire, 2\n",
    "Robert Duvall, Talia Shire, 2\n",
    "```"
   ]
  },
  {
   "cell_type": "code",
   "execution_count": 27,
   "metadata": {},
   "outputs": [
    {
     "data": {
      "text/plain": [
       "<sqlite3.Cursor at 0x1ebc9dcbab0>"
      ]
     },
     "execution_count": 27,
     "metadata": {},
     "output_type": "execute_result"
    }
   ],
   "source": [
    "movie_c.execute(\"SELECT actor1.actor, actor2.actor,COUNT(movies.imdb_id) FROM actors actor1, actors actor2\\\n",
    "                LEFT OUTER JOIN movies ON actor1.imdb_id=movies.imdb_id\\\n",
    "                WHERE actor1.actor!=actor2.actor AND actor1.imdb_id=actor2.imdb_id \\\n",
    "                AND movies.rating>9 AND actor1.actor<actor2.actor\\\n",
    "                GROUP BY actor1.actor, actor2.actor \\\n",
    "                ORDER BY COUNT(movies.imdb_id) DESC\\\n",
    "                LIMIT 10\")"
   ]
  },
  {
   "cell_type": "code",
   "execution_count": 28,
   "metadata": {},
   "outputs": [
    {
     "name": "stdout",
     "output_type": "stream",
     "text": [
      "('Al Pacino', 'Diane Keaton', 2)\n",
      "('Al Pacino', 'John Cazale', 2)\n",
      "('Al Pacino', 'Robert Duvall', 2)\n",
      "('Al Pacino', 'Talia Shire', 2)\n",
      "('Diane Keaton', 'John Cazale', 2)\n",
      "('Diane Keaton', 'Robert Duvall', 2)\n",
      "('Diane Keaton', 'Talia Shire', 2)\n",
      "('John Cazale', 'Robert Duvall', 2)\n",
      "('John Cazale', 'Talia Shire', 2)\n",
      "('Robert Duvall', 'Talia Shire', 2)\n"
     ]
    }
   ],
   "source": [
    "for row in movie_c.fetchall():\n",
    "    print(row)"
   ]
  },
  {
   "cell_type": "markdown",
   "metadata": {},
   "source": [
    "## Part 2 (20 points) "
   ]
  },
  {
   "cell_type": "markdown",
   "metadata": {},
   "source": [
    "Write a python function that takes two arguments: genre and k \n",
    "\n",
    "The function should print out the top k directors who made the highest rated movies (on average) in the provided genre. You should use the sqlite3 database file you created in Part 1. Some example runs of my function are shown below. Your program should produce the same output when provided with the same command line arguments.\n",
    "\n",
    "`get_top_genre_directors(\"Sci-Fi\", 3)`\n",
    "```\n",
    "Top 3 directors who made highest rated Sci-Fi movies:\n",
    "Director, Average Sci-Fi movie rating\n",
    "Christopher Nolan, 8.8\n",
    "George Lucas, 8.8\n",
    "Irvin Kershner, 8.8\n",
    "```\n",
    "\n",
    "`get_top_genre_directors(\"War\", 5)`\n",
    "```\n",
    "Top 5 directors who made highest rated War movies:\n",
    "Director, Average War movie rating\n",
    "Steven Spielberg, 8.75\n",
    "Michael Curtiz, 8.7\n",
    "Francis Ford Coppola, 8.6\n",
    "Charles Chaplin, 8.5\n",
    "Roberto Benigni, 8.5\n",
    "```\n",
    "\n",
    "`get_top_genre_directors(\"Animation\", 10)`\n",
    "```\n",
    "Top 10 directors who made highest rated Animation movies:\n",
    "Director, Average Animation movie rating\n",
    "Isao Takahata, 8.4\n",
    "Rob Minkoff, 8.4\n",
    "Roger Allers, 8.4\n",
    "Andrew Stanton, 8.3\n",
    "Bob Peterson, 8.3\n",
    "John Lasseter, 8.3\n",
    "Lee Unkrich, 8.3\n",
    "Adam Elliot, 8.2\n",
    "Chris Sanders, 8.2\n",
    "Dean DeBlois, 8.2\n",
    "```"
   ]
  },
  {
   "cell_type": "code",
   "execution_count": 29,
   "metadata": {},
   "outputs": [],
   "source": [
    "def get_top_genre_directors(genre, num):\n",
    "    movie_c.execute(\"SELECT directors.director, AVG(movies.rating) FROM directors \\\n",
    "                    LEFT OUTER JOIN movies ON movies.imdb_id=directors.imdb_id \\\n",
    "                    LEFT OUTER JOIN genres ON genres.imdb_id=movies.imdb_id \\\n",
    "                    WHERE genres.genre=? \\\n",
    "                    GROUP BY directors.director \\\n",
    "                    ORDER BY AVG(movies.rating) DESC,directors.director ASC\\\n",
    "                    LIMIT ?\",[(genre),(num),])\n",
    "    for row in movie_c.fetchall():\n",
    "        print(row)"
   ]
  },
  {
   "cell_type": "code",
   "execution_count": 30,
   "metadata": {},
   "outputs": [
    {
     "name": "stdout",
     "output_type": "stream",
     "text": [
      "('Steven Spielberg', 8.75)\n",
      "('Michael Curtiz', 8.7)\n",
      "('Francis Ford Coppola', 8.6)\n"
     ]
    }
   ],
   "source": [
    "get_top_genre_directors(\"War\", 3)"
   ]
  },
  {
   "cell_type": "code",
   "execution_count": 31,
   "metadata": {},
   "outputs": [
    {
     "name": "stdout",
     "output_type": "stream",
     "text": [
      "('Christopher Nolan', 8.8)\n",
      "('George Lucas', 8.8)\n",
      "('Irvin Kershner', 8.8)\n"
     ]
    }
   ],
   "source": [
    "get_top_genre_directors(\"Sci-Fi\", 3)"
   ]
  },
  {
   "cell_type": "code",
   "execution_count": 32,
   "metadata": {
    "scrolled": true
   },
   "outputs": [
    {
     "name": "stdout",
     "output_type": "stream",
     "text": [
      "('Steven Spielberg', 8.75)\n",
      "('Michael Curtiz', 8.7)\n",
      "('Francis Ford Coppola', 8.6)\n",
      "('Charles Chaplin', 8.5)\n",
      "('Roberto Benigni', 8.5)\n"
     ]
    }
   ],
   "source": [
    "get_top_genre_directors(\"War\", 5)"
   ]
  },
  {
   "cell_type": "code",
   "execution_count": 33,
   "metadata": {},
   "outputs": [
    {
     "name": "stdout",
     "output_type": "stream",
     "text": [
      "('Isao Takahata', 8.4)\n",
      "('Rob Minkoff', 8.4)\n",
      "('Roger Allers', 8.4)\n",
      "('Andrew Stanton', 8.3)\n",
      "('Bob Peterson', 8.3)\n",
      "('John Lasseter', 8.3)\n",
      "('Lee Unkrich', 8.3)\n",
      "('Adam Elliot', 8.2)\n",
      "('Chris Sanders', 8.2)\n",
      "('Dean DeBlois', 8.2)\n"
     ]
    }
   ],
   "source": [
    "get_top_genre_directors(\"Animation\", 10)"
   ]
  },
  {
   "cell_type": "markdown",
   "metadata": {},
   "source": [
    "## What to submit: \n",
    "Please perform the following operations and turn in the corresponding files to canvas:\n",
    "1. Jupyter notebook titled uniqname_si618_hw3.ipynb and the corresponding html page (uniqname_si618_hw3.html) \n",
    "through Canvas.\n",
    "2. The sqlite database file you created. (uniqname_si618_hw3.db)"
   ]
  }
 ],
 "metadata": {
  "interpreter": {
   "hash": "ccfad3a08567331d09d2432bee1b50cab695c9379824f131d2e64405b63b07b1"
  },
  "kernelspec": {
   "display_name": "Python 3 (ipykernel)",
   "language": "python",
   "name": "python3"
  },
  "language_info": {
   "codemirror_mode": {
    "name": "ipython",
    "version": 3
   },
   "file_extension": ".py",
   "mimetype": "text/x-python",
   "name": "python",
   "nbconvert_exporter": "python",
   "pygments_lexer": "ipython3",
   "version": "3.9.7"
  }
 },
 "nbformat": 4,
 "nbformat_minor": 2
}
