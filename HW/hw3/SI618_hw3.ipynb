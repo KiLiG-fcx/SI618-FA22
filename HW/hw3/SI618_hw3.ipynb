{
 "cells": [
  {
   "cell_type": "markdown",
   "metadata": {},
   "source": [
    "# SI 618 Fall 2022 Homework 3 (100 points)"
   ]
  },
  {
   "cell_type": "markdown",
   "metadata": {},
   "source": [
    "## Part 1 (80 points) "
   ]
  },
  {
   "cell_type": "markdown",
   "metadata": {},
   "source": [
    "The provided ‘movie_actors_data.txt’ file contains a JSON string on each line. For example, the first line is: \n",
    "\n",
    ">{\"rating\": 9.3, \"genres\": [\"Crime\", \"Drama\"], \"rated\": \"R\", \"filming_locations\": \"Ashland, Ohio, USA\", \"language\": [\"English\"], \"title\": \"The Shawshank Redemption\", \"runtime\": [\"142 min\"], \"poster\": \"http://img3.douban.com/lpic/s1311361.jpg\", \"imdb_url\": \"http://www.imdb.com/title/tt0111161/\", \"writers\": [\"Stephen King\", \"Frank Darabont\"], \"imdb_id\": \"tt0111161\", \"directors\": [\"Frank Darabont\"], \"rating_count\": 894012, \"actors\": [\"Tim Robbins\", \"Morgan Freeman\", \"Bob Gunton\", \"William Sadler\", \"Clancy Brown\", \"Gil Bellows\", \"Mark Rolston\", \"James Whitmore\", \"Jeffrey DeMunn\", \"Larry Brandenburg\", \"Neil Giuntoli\", \"Brian Libby\", \"David Proval\", \"Joseph Ragno\", \"Jude Ciccolella\"], \"plot_simple\": \"Two imprisoned men bond over a number of years, finding solace and eventual redemption through acts of common decency.\", \"year\": 1994, \"country\": [\"USA\"], \"type\": \"M\", \"release_date\": 19941014, \"also_known_as\": [\"Die Verurteilten\"]}\n",
    "\n",
    "The fields we are interested in are imdb_id, title , rating, genres, actors, directors, year, and country. You will parse the JSON strings, and load the data into three tables in SQLite, and then write SQL queries to retrieve the data specified. \n",
    "\n",
    "You will create 4 tables: \n",
    "* The “movies” table, which has four columns: imdb_id, title, year, rating, country  ",
    "\n",
    "\n",
    "* The “movie_genre” table, which has two columns: imdb_id and genre. A movie typically has multiple genres, and in this case, there should be one row for each genre. If some movie does not have any genre, ignore that movie.  ",
    "\n",
    "\n",
    "* The “movie_actor” table, which has two columns imdb_id and actor. A movie typically has multiple actors, and in this case, there should be one row for each actor. \n",
    "\n",
    "* The “movie_director” table, which has two columns imdb_id and director. A movie typically has multiple directors, and in this case, there should be one row for each director. \n",
    "\n",
    "**When you run your Python code, it should print out EXACTLY the output provided.**"
   ]
  },
  {
   "cell_type": "markdown",
   "metadata": {},
   "source": [
    "#### Q1. (10 points) Parse input file to get needed data for the three tables and load them into appropriate Python data structure. "
   ]
  },
  {
   "cell_type": "code",
   "execution_count": null,
   "metadata": {},
   "outputs": [],
   "source": []
  },
  {
   "cell_type": "markdown",
   "metadata": {},
   "source": [
    "#### Q2. (5 points) Create the movies table and load data into it. Note that you only need to consider the first country if there are multiple countries associated with a movie. Read and show the first 5 rows of the movies table in your SQLite database."
   ]
  },
  {
   "cell_type": "code",
   "execution_count": null,
   "metadata": {},
   "outputs": [],
   "source": []
  },
  {
   "cell_type": "markdown",
   "metadata": {},
   "source": [
    "#### Q3. (5 points) Create the movie_genre table and load data into it."
   ]
  },
  {
   "cell_type": "code",
   "execution_count": null,
   "metadata": {},
   "outputs": [],
   "source": []
  },
  {
   "cell_type": "markdown",
   "metadata": {},
   "source": [
    "#### Q4. (5 points) Create the movie_actor table and load data into it."
   ]
  },
  {
   "cell_type": "code",
   "execution_count": null,
   "metadata": {},
   "outputs": [],
   "source": []
  },
  {
   "cell_type": "markdown",
   "metadata": {},
   "source": [
    "#### Q5. (5 points) Create the movie_director table and load data into it."
   ]
  },
  {
   "cell_type": "code",
   "execution_count": null,
   "metadata": {},
   "outputs": [],
   "source": []
  },
  {
   "cell_type": "markdown",
   "metadata": {},
   "source": [
    "#### Q6. (10 points) Write a SQL query to find the number of released movies by decade in chronological order. (Note: you will need to round *down* years to get the corresponding decade. e.g. 2009 belongs to the 2000s)\n",
    "```\n",
    "Number of movies broken down by decade: Decade, Number\n",
    "1920, 5\n",
    "1930, 8\n",
    "1940, 16\n",
    "1950, 30\n",
    "1960, 23\n",
    "1970, 24\n",
    "1980, 26\n",
    "1990, 38\n",
    "2000, 57\n",
    "2010, 21\n",
    "\n",
    "```"
   ]
  },
  {
   "cell_type": "code",
   "execution_count": null,
   "metadata": {},
   "outputs": [],
   "source": []
  },
  {
   "cell_type": "markdown",
   "metadata": {},
   "source": [
    "#### Q7. (10 points) Write a SQL query to find the top 5 genres in the US by the average ratings of movies in that genre. Print out the results.\n",
    "```\n",
    "Top 5 genres in the US: Genre, AvgRatings\n",
    "Action, 8.461290322580647\n",
    "War, 8.413333333333332\n",
    "Crime, 8.408695652173916\n",
    "Music, 8.4\n",
    "Sci-Fi, 8.385000000000002\n",
    "```"
   ]
  },
  {
   "cell_type": "code",
   "execution_count": null,
   "metadata": {},
   "outputs": [],
   "source": []
  },
  {
   "cell_type": "markdown",
   "metadata": {},
   "source": [
    "#### Q8. (10 points) Write a SQL query to find the top 10 actors who have worked with the director Christopher Nolan in the most movies. The actors are ordered in decreasing number of movies they worked with the director. In case of ties, the rows are ordered by actors’ names in alphabetical order.\n",
    "\n",
    "```\n",
    "The actors who have worked with Christopher Nolan the most: Name, Times\n",
    "Michael Caine, 5\n",
    "Christian Bale, 4\n",
    "Cillian Murphy, 3\n",
    "Gary Oldman, 3\n",
    "Morgan Freeman, 3\n",
    "Joseph Gordon-Levitt, 2\n",
    "Ken Watanabe, 2\n",
    "Larry Holden, 2\n",
    "Marion Cotillard, 2\n",
    "Mark Boone Junior, 2\n",
    "```"
   ]
  },
  {
   "cell_type": "code",
   "execution_count": null,
   "metadata": {},
   "outputs": [],
   "source": []
  },
  {
   "cell_type": "markdown",
   "metadata": {},
   "source": [
    "#### Q9. (10 points) Write a SQL query to find the top 10 directors based on average ratings of the movies they directed between the years year 1980 and 2010 (begin and end years are included). Only consider those who directed at least 2 movies in this time range. For each director, show their name, average rating of the movies, and the number of movies they directed. Sort the result by descending average movie rating, then by director name in alphabetical order.\n",
    "\n",
    "```\n",
    "Between 1980 and 2010, top 10 highest rated directors based on average movie rating with at least 2 credits:\n",
    "Director, Movies\n",
    "Frank Darabont, 8.9, 2\n",
    "David Fincher, 8.8, 2\n",
    "Peter Jackson, 8.8, 3\n",
    "Christopher Nolan, 8.64, 5\n",
    "Robert Zemeckis, 8.6, 2\n",
    "Steven Spielberg, 8.5, 5\n",
    "Quentin Tarantino, 8.475, 4\n",
    "Stanley Kubrick, 8.45, 2\n",
    "James Cameron, 8.4, 3\n",
    "Ridley Scott, 8.4, 2\n",
    "```\n"
   ]
  },
  {
   "cell_type": "code",
   "execution_count": null,
   "metadata": {},
   "outputs": [],
   "source": []
  },
  {
   "cell_type": "markdown",
   "metadata": {},
   "source": [
    "#### Q10. (10 points) Write a SQL query for finding pairs of actors who co-starred in at least 2 highly rated (rating > 9) movies together. \n",
    "\n",
    "The pairs of names must be unique. This means that ‘actor A, actor B’ and ‘actor B, actor A’ are the same pair, so only one of them should appear. For each pair of actors you print out, the two actors must be ordered alphabetically. The pairs are ordered in decreasing number of movies they co-stared in. In case of ties, the rows are ordered by actors’ names. \n",
    "\n",
    ">You will need to join the movie_actor table with itself to get this data (in addition to another required join). It is a bit tricky. If you cannot do it with SQL statement, you can also write some Python code that works on the Python data structure that you used to create the movie_actor table. That’ll mean much more lines of code, and if you do it that way, you’ll get 5 points instead of 10 points. You will only get 10 points if you solve it with pure SQL.\n",
    "\n",
    "```\n",
    "Pairs of actors who co-stared in 2 or more highly rated movies: Actor A, Actor B, Co-stared Movies\n",
    "Al Pacino, Diane Keaton, 2\n",
    "Al Pacino, John Cazale, 2\n",
    "Al Pacino, Robert Duvall, 2\n",
    "Al Pacino, Talia Shire, 2\n",
    "Diane Keaton, John Cazale, 2\n",
    "Diane Keaton, Robert Duvall, 2\n",
    "Diane Keaton, Talia Shire, 2\n",
    "John Cazale, Robert Duvall, 2\n",
    "John Cazale, Talia Shire, 2\n",
    "Robert Duvall, Talia Shire, 2\n",
    "```"
   ]
  },
  {
   "cell_type": "code",
   "execution_count": null,
   "metadata": {},
   "outputs": [],
   "source": []
  },
  {
   "cell_type": "markdown",
   "metadata": {},
   "source": [
    "## Part 2 (20 points) "
   ]
  },
  {
   "cell_type": "markdown",
   "metadata": {},
   "source": [
    "Write a python function that takes two arguments: genre and k \n",
    "\n",
    "The function should print out the top k directors who made the highest rated movies (on average) in the provided genre. You should use the sqlite3 database file you created in Part 1. Some example runs of my function are shown below. Your program should produce the same output when provided with the same command line arguments.\n",
    "\n",
    "`get_top_genre_directors(\"Sci-Fi\", 3)`\n",
    "```\n",
    "Top 3 directors who made highest rated Sci-Fi movies:\n",
    "Director, Average Sci-Fi movie rating\n",
    "Christopher Nolan, 8.8\n",
    "George Lucas, 8.8\n",
    "Irvin Kershner, 8.8\n",
    "```\n",
    "\n",
    "`get_top_genre_directors(\"War\", 5)`\n",
    "```\n",
    "Top 5 directors who made highest rated War movies:\n",
    "Director, Average War movie rating\n",
    "Steven Spielberg, 8.75\n",
    "Michael Curtiz, 8.7\n",
    "Francis Ford Coppola, 8.6\n",
    "Charles Chaplin, 8.5\n",
    "Roberto Benigni, 8.5\n",
    "```\n",
    "\n",
    "`get_top_genre_directors(\"Animation\", 10)`\n",
    "```\n",
    "Top 10 directors who made highest rated Animation movies:\n",
    "Director, Average Animation movie rating\n",
    "Isao Takahata, 8.4\n",
    "Rob Minkoff, 8.4\n",
    "Roger Allers, 8.4\n",
    "Andrew Stanton, 8.3\n",
    "Bob Peterson, 8.3\n",
    "John Lasseter, 8.3\n",
    "Lee Unkrich, 8.3\n",
    "Adam Elliot, 8.2\n",
    "Chris Sanders, 8.2\n",
    "Dean DeBlois, 8.2\n",
    "```"
   ]
  },
  {
   "cell_type": "code",
   "execution_count": null,
   "metadata": {},
   "outputs": [],
   "source": []
  },
  {
   "cell_type": "code",
   "execution_count": null,
   "metadata": {},
   "outputs": [],
   "source": [
    "get_top_genre_directors(\"Sci-Fi\", 3)"
   ]
  },
  {
   "cell_type": "code",
   "execution_count": null,
   "metadata": {
    "scrolled": true
   },
   "outputs": [],
   "source": [
    "get_top_genre_directors(\"War\", 5)"
   ]
  },
  {
   "cell_type": "code",
   "execution_count": null,
   "metadata": {},
   "outputs": [],
   "source": [
    "get_top_genre_directors(\"Animation\", 10)"
   ]
  },
  {
   "cell_type": "markdown",
   "metadata": {},
   "source": [
    "## What to submit: \n",
    "Please perform the following operations and turn in the corresponding files to canvas:\n",
    "1. Jupyter notebook titled uniqname_si618_hw3.ipynb and the corresponding html page (uniqname_si618_hw3.html) \n",
    "through Canvas.\n",
    "2. The sqlite database file you created. (uniqname_si618_hw3.db)"
   ]
  }
 ],
 "metadata": {
  "interpreter": {
   "hash": "ccfad3a08567331d09d2432bee1b50cab695c9379824f131d2e64405b63b07b1"
  },
  "kernelspec": {
   "display_name": "Python 3 (ipykernel)",
   "language": "python",
   "name": "python3"
  },
  "language_info": {
   "codemirror_mode": {
    "name": "ipython",
    "version": 3
   },
   "file_extension": ".py",
   "mimetype": "text/x-python",
   "name": "python",
   "nbconvert_exporter": "python",
   "pygments_lexer": "ipython3",
   "version": "3.8.12"
  }
 },
 "nbformat": 4,
 "nbformat_minor": 2
}
