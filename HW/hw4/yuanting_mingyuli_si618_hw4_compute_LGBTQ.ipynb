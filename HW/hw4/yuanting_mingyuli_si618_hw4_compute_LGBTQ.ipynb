{
 "cells": [
  {
   "cell_type": "code",
   "execution_count": 1,
   "id": "c0ee76d4",
   "metadata": {},
   "outputs": [],
   "source": [
    "import pandas as pd\n",
    "import numpy as np"
   ]
  },
  {
   "cell_type": "code",
   "execution_count": 2,
   "id": "ff42e7d1",
   "metadata": {},
   "outputs": [
    {
     "data": {
      "text/plain": [
       "75"
      ]
     },
     "execution_count": 2,
     "metadata": {},
     "output_type": "execute_result"
    }
   ],
   "source": [
    "lgbtq = pd.read_csv(\"yuanting_mingyuli_si618_hw4_batch_result_LGBTQ.csv\")\n",
    "lgbtq_subset1 = lgbtq[['Input.tweet_text','Answer.lgbtq1.supports-lgbtq-movements',\n",
    "                'Answer.lgbtq2.opposes-some-lgbtq-movements','Answer.lgbtq3.neutral/unclear']]\n",
    "tweets = lgbtq['Input.tweet_text'].nunique()\n",
    "tweets"
   ]
  },
  {
   "cell_type": "code",
   "execution_count": 3,
   "id": "06c7212a",
   "metadata": {},
   "outputs": [],
   "source": [
    "supports = lgbtq.groupby(['Input.tweet_text'])[['Answer.lgbtq1.supports-lgbtq-movements']].sum()\n",
    "opposes = lgbtq.groupby(['Input.tweet_text'])[['Answer.lgbtq2.opposes-some-lgbtq-movements']].sum()\n",
    "neutral = lgbtq.groupby(['Input.tweet_text'])[['Answer.lgbtq3.neutral/unclear']].sum()"
   ]
  },
  {
   "cell_type": "code",
   "execution_count": 4,
   "id": "4ae4c520",
   "metadata": {},
   "outputs": [],
   "source": [
    "with open(\"yuanting_mingyuli_si618_hw4_computations_lgbtq.txt\",'w') as f:\n",
    "    # at least 1\n",
    "    f.write(\"supports-lgbtq-movements1\\t\"+str(supports[supports['Answer.lgbtq1.supports-lgbtq-movements']>=1].shape[0]/tweets))\n",
    "    f.write(\"\\t opposes-some-lgbtq-movements1\\t\"+\n",
    "            str(opposes[opposes['Answer.lgbtq2.opposes-some-lgbtq-movements']>=1].shape[0]/tweets))\n",
    "    f.write(\"\\t neutral-lgbtq1 \\t\"+str(neutral[neutral['Answer.lgbtq3.neutral/unclear']>=1].shape[0]/tweets)+\"\\n\")\n",
    "    # at least 2\n",
    "    f.write(\"supports-lgbtq-movements2\\t\"+\n",
    "            str(supports[supports['Answer.lgbtq1.supports-lgbtq-movements']>=2].shape[0]/tweets))\n",
    "    f.write(\"\\t opposes-some-lgbtq-movements2\\t\"+\n",
    "            str(opposes[opposes['Answer.lgbtq2.opposes-some-lgbtq-movements']>=2].shape[0]/tweets))\n",
    "    f.write(\"\\t neutral-lgbtq2\\t\"+str(neutral[neutral['Answer.lgbtq3.neutral/unclear']>=2].shape[0]/tweets)+\"\\n\")\n",
    "    # at least 3\n",
    "    f.write(\"supports-lgbtq-movements3\\t\"+\n",
    "            str(supports[supports['Answer.lgbtq1.supports-lgbtq-movements']==3].shape[0]/tweets))\n",
    "    f.write(\"\\t opposes-some-lgbtq-movements3\\t\"+\n",
    "            str(opposes[opposes['Answer.lgbtq2.opposes-some-lgbtq-movements']==3].shape[0]/tweets))\n",
    "    f.write(\"\\t neutral-lgbtq3\\t\"+str(neutral[neutral['Answer.lgbtq3.neutral/unclear']==3].shape[0]/tweets))\n",
    "    f.write(\"\\n\")"
   ]
  },
  {
   "cell_type": "code",
   "execution_count": 5,
   "id": "3f7b00f6",
   "metadata": {},
   "outputs": [
    {
     "name": "stderr",
     "output_type": "stream",
     "text": [
      "C:\\Users\\MINGYU~1\\AppData\\Local\\Temp/ipykernel_56028/1911345957.py:4: SettingWithCopyWarning: \n",
      "A value is trying to be set on a copy of a slice from a DataFrame.\n",
      "Try using .loc[row_indexer,col_indexer] = value instead\n",
      "\n",
      "See the caveats in the documentation: https://pandas.pydata.org/pandas-docs/stable/user_guide/indexing.html#returning-a-view-versus-a-copy\n",
      "  lgbtq_subset2['month'] = pd.Series(lgbtq_subset2.loc[:,('Input.created_time')].str.split('-').str[0:2])\n",
      "C:\\Users\\MINGYU~1\\AppData\\Local\\Temp/ipykernel_56028/1911345957.py:5: SettingWithCopyWarning: \n",
      "A value is trying to be set on a copy of a slice from a DataFrame.\n",
      "Try using .loc[row_indexer,col_indexer] = value instead\n",
      "\n",
      "See the caveats in the documentation: https://pandas.pydata.org/pandas-docs/stable/user_guide/indexing.html#returning-a-view-versus-a-copy\n",
      "  lgbtq_subset2['month'] = lgbtq_subset2['month'].str.join('-')\n"
     ]
    }
   ],
   "source": [
    "lgbtq_subset2 = lgbtq[['Input.tweet_text','Input.created_time','Answer.lgbtq1.supports-lgbtq-movements',\n",
    "                      'Answer.lgbtq2.opposes-some-lgbtq-movements','Answer.lgbtq3.neutral/unclear']]\n",
    "month = '-'.join(lgbtq_subset2['Input.created_time'][0].split('-')[0:2])\n",
    "lgbtq_subset2['month'] = pd.Series(lgbtq_subset2.loc[:,('Input.created_time')].str.split('-').str[0:2])\n",
    "lgbtq_subset2['month'] = lgbtq_subset2['month'].str.join('-')"
   ]
  },
  {
   "cell_type": "code",
   "execution_count": 6,
   "id": "eaade323",
   "metadata": {},
   "outputs": [],
   "source": [
    "sum2support = lgbtq_subset2.groupby(['Input.tweet_text'])"
   ]
  },
  {
   "cell_type": "code",
   "execution_count": 7,
   "id": "64252aa8",
   "metadata": {},
   "outputs": [],
   "source": [
    "supporttf = sum2support.filter(lambda x: x['Answer.lgbtq1.supports-lgbtq-movements'].sum()>=2)\n",
    "monthsupport = supporttf.groupby('month')[['Input.tweet_text']].nunique()"
   ]
  },
  {
   "cell_type": "code",
   "execution_count": 8,
   "id": "2d5afd5e",
   "metadata": {},
   "outputs": [],
   "source": [
    "opposetf = sum2support.filter(lambda x: x['Answer.lgbtq2.opposes-some-lgbtq-movements'].sum()>=2)\n",
    "monthoppose = opposetf.groupby(['month'])[['Input.tweet_text']].nunique()"
   ]
  },
  {
   "cell_type": "code",
   "execution_count": 9,
   "id": "167918f9",
   "metadata": {},
   "outputs": [],
   "source": [
    "neutraltf = sum2support.filter(lambda x: x['Answer.lgbtq3.neutral/unclear'].sum()>=2)\n",
    "monthneutral = neutraltf.groupby(['month'])[['Input.tweet_text']].nunique()"
   ]
  },
  {
   "cell_type": "code",
   "execution_count": 10,
   "id": "d5dfe0e9",
   "metadata": {},
   "outputs": [],
   "source": [
    "nomajority = sum2support.filter(lambda x: (x['Answer.lgbtq3.neutral/unclear'].sum()<2)&\n",
    "                                (x['Answer.lgbtq2.opposes-some-lgbtq-movements'].sum()<2)&\n",
    "                               (x['Answer.lgbtq1.supports-lgbtq-movements'].sum()<2))\n",
    "monthmajority = nomajority.groupby(['month'])[['Input.tweet_text']].nunique()"
   ]
  },
  {
   "cell_type": "code",
   "execution_count": 11,
   "id": "ac18054d",
   "metadata": {},
   "outputs": [],
   "source": [
    "months_count = lgbtq_subset2.groupby(['month'])[['Input.tweet_text']].nunique()"
   ]
  },
  {
   "cell_type": "code",
   "execution_count": 12,
   "id": "ec272d9b",
   "metadata": {},
   "outputs": [],
   "source": [
    "with open(\"yuanting_mingyuli_si618_hw4_computations_lgbtq.txt\",'a') as f:\n",
    "    f.write(\"\\n\")\n",
    "    for i in range(len(monthsupport)):\n",
    "        f.write(monthsupport.index[i].split('-')[0]+monthsupport.index[i].split('-')[1]+\"\\n\") # write year+month\n",
    "        f.write(\"supports-lgbtq-movements-majority\\t\"+\n",
    "                str(monthsupport['Input.tweet_text'][i]/months_count['Input.tweet_text'][i]))\n",
    "        f.write(\"\\topposes-some-lgbtq-movements-majority\\t\"+\n",
    "                str(monthoppose['Input.tweet_text'][i]/months_count['Input.tweet_text'][i]))\n",
    "        f.write(\"\\tneutral majority\\t\"+\n",
    "                str(monthneutral['Input.tweet_text'][i]/months_count['Input.tweet_text'][i]))\n",
    "        f.write(\"\\tno_majority\\t\"+\n",
    "                str(monthmajority['Input.tweet_text'][i]/months_count['Input.tweet_text'][i]))\n",
    "        f.write(\"\\n\")"
   ]
  },
  {
   "cell_type": "code",
   "execution_count": 13,
   "id": "97af43df",
   "metadata": {},
   "outputs": [],
   "source": [
    "lgbtq_subset3 = lgbtq[['Input.tweet_text','Answer.lgbtq1.supports-lgbtq-movements',\n",
    "                       'Answer.lgbtq2.opposes-some-lgbtq-movements','Answer.lgbtq3.neutral/unclear',\n",
    "                      'Answer.targeted1.yes']]"
   ]
  },
  {
   "cell_type": "code",
   "execution_count": 14,
   "id": "6c16842e",
   "metadata": {},
   "outputs": [],
   "source": [
    "targetgroup = lgbtq_subset3.groupby(['Input.tweet_text'])"
   ]
  },
  {
   "cell_type": "code",
   "execution_count": 15,
   "id": "9b2158bb",
   "metadata": {},
   "outputs": [],
   "source": [
    "sup_t = targetgroup.filter(lambda x: (x['Answer.targeted1.yes'].sum()>=1) &\n",
    "                                 (x['Answer.lgbtq1.supports-lgbtq-movements'].sum()>=2))\n",
    "num_sup = targetgroup.filter(lambda x: x['Answer.lgbtq1.supports-lgbtq-movements'].sum()>=2)['Input.tweet_text'].nunique()"
   ]
  },
  {
   "cell_type": "code",
   "execution_count": 16,
   "id": "e65bb312",
   "metadata": {},
   "outputs": [],
   "source": [
    "ops_t = targetgroup.filter(lambda x: (x['Answer.targeted1.yes'].sum()>=1) &\n",
    "                                 (x['Answer.lgbtq2.opposes-some-lgbtq-movements'].sum()>=2))\n",
    "num_ops = targetgroup.filter(lambda x: x['Answer.lgbtq2.opposes-some-lgbtq-movements'].sum()>=2)['Input.tweet_text'].nunique()"
   ]
  },
  {
   "cell_type": "code",
   "execution_count": 17,
   "id": "9f21fd22",
   "metadata": {},
   "outputs": [],
   "source": [
    "neu_t = targetgroup.filter(lambda x: (x['Answer.targeted1.yes'].sum()>=1) &\n",
    "                                 (x['Answer.lgbtq3.neutral/unclear'].sum()>=2))\n",
    "num_neu = targetgroup.filter(lambda x: x['Answer.lgbtq3.neutral/unclear'].sum()>=2)['Input.tweet_text'].nunique()"
   ]
  },
  {
   "cell_type": "code",
   "execution_count": 18,
   "id": "4e9b06de",
   "metadata": {},
   "outputs": [],
   "source": [
    "with open(\"yuanting_mingyuli_si618_hw4_computations_lgbtq.txt\",'a') as f:\n",
    "    f.write(\"\\n\")\n",
    "    f.write(\"targeted_supports-lgbtq-movements-majority\\t\"+str(sup_t['Input.tweet_text'].nunique()/num_sup))\n",
    "    f.write(\"\\ttargeted_opposes-some-lgbtq-movements-majority\\t\"+str(ops_t['Input.tweet_text'].nunique()/num_ops))\n",
    "    f.write(\"\\ttargeted_neutral-majority\\t\"+str(neu_t['Input.tweet_text'].nunique()/num_neu))"
   ]
  }
 ],
 "metadata": {
  "kernelspec": {
   "display_name": "Python 3 (ipykernel)",
   "language": "python",
   "name": "python3"
  },
  "language_info": {
   "codemirror_mode": {
    "name": "ipython",
    "version": 3
   },
   "file_extension": ".py",
   "mimetype": "text/x-python",
   "name": "python",
   "nbconvert_exporter": "python",
   "pygments_lexer": "ipython3",
   "version": "3.9.7"
  }
 },
 "nbformat": 4,
 "nbformat_minor": 5
}
